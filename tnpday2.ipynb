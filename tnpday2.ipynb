{
 "cells": [
  {
   "cell_type": "markdown",
   "metadata": {},
   "source": [
    "#data structure: WAY OF STORING DATA such that it can be accessed and worked with efficiently  \n",
    "#1> conventional way of storing data: stack, queue, linked list, tree, graph  \n",
    "#2> python's way of storing data: list, tuple, dictionary, set  \n",
    "#Hetrogenous data structure: list, tuple, dictionary  \n",
    "#lists [] ; tuple () ; dictionary {key}:{value} ; set {}  \n",
    "#list: ordered, mutable, allows duplicate elements  \n",
    "#tuple: ordered, immutable, allows duplicate elements,static  \n",
    "#dictionary: unordered, mutable, no duplicate elements, key:value pair  \n",
    "#set: unordered, mutable, no duplicate elements  \n",
    "\n",
    "#list used by Programmers  \n",
    "#tuple used by Python Internals for security  \n",
    "#set used for mathematical operations & filtering  \n",
    "#dictionary used for key:value pair mapping ex. Seat No. : Student Name  \n"
   ]
  },
  {
   "cell_type": "code",
   "execution_count": 2,
   "metadata": {},
   "outputs": [
    {
     "name": "stdout",
     "output_type": "stream",
     "text": [
      "<class 'set'>\n"
     ]
    }
   ],
   "source": [
    "a=set()\n",
    "print(type(a))"
   ]
  },
  {
   "cell_type": "code",
   "execution_count": 3,
   "metadata": {},
   "outputs": [
    {
     "name": "stdout",
     "output_type": "stream",
     "text": [
      "<class 'list'>\n"
     ]
    }
   ],
   "source": [
    "l=[1,2,3,4,5,6,7,8,9,10]\n",
    "print(type(l))"
   ]
  },
  {
   "cell_type": "code",
   "execution_count": 4,
   "metadata": {},
   "outputs": [
    {
     "name": "stdout",
     "output_type": "stream",
     "text": [
      "1\n",
      "2\n",
      "3\n",
      "4\n",
      "5\n",
      "6\n",
      "7\n",
      "8\n",
      "9\n",
      "10\n"
     ]
    }
   ],
   "source": [
    "#auto iteration\n",
    "for i in l:\n",
    "    print(i)"
   ]
  },
  {
   "cell_type": "code",
   "execution_count": 5,
   "metadata": {},
   "outputs": [
    {
     "name": "stdout",
     "output_type": "stream",
     "text": [
      "1\n",
      "2\n",
      "3\n",
      "4\n",
      "5\n",
      "6\n",
      "7\n",
      "8\n",
      "9\n",
      "10\n"
     ]
    }
   ],
   "source": [
    "#index access\n",
    "for i in range(0,len(l),1):\n",
    "    print(l[i])"
   ]
  },
  {
   "cell_type": "markdown",
   "metadata": {},
   "source": [
    "> '+' used for appending lists"
   ]
  },
  {
   "cell_type": "code",
   "execution_count": 6,
   "metadata": {},
   "outputs": [
    {
     "name": "stdout",
     "output_type": "stream",
     "text": [
      "[1, 2, 4, 5, 6, 7]\n"
     ]
    }
   ],
   "source": [
    "l=[1,2,4]\n",
    "l2= l + [5,6,7]\n",
    "print(l2)"
   ]
  },
  {
   "cell_type": "markdown",
   "metadata": {},
   "source": [
    "> '*' multiplies the lists"
   ]
  },
  {
   "cell_type": "code",
   "execution_count": 7,
   "metadata": {},
   "outputs": [
    {
     "name": "stdout",
     "output_type": "stream",
     "text": [
      "[1, 2, 4, 1, 2, 4, 1, 2, 4]\n"
     ]
    }
   ],
   "source": [
    "l=[1,2,4]\n",
    "l2= l*3\n",
    "print(l2)"
   ]
  },
  {
   "cell_type": "markdown",
   "metadata": {},
   "source": [
    "```\n",
    "multiply each element by 2\n",
    "```"
   ]
  },
  {
   "cell_type": "code",
   "execution_count": 11,
   "metadata": {},
   "outputs": [
    {
     "name": "stdout",
     "output_type": "stream",
     "text": [
      "[2, 4, 8, 10, 18]\n"
     ]
    }
   ],
   "source": [
    "l=[1,2,3,5,9]\n",
    "l=[i*2 for i in l]\n",
    "print(l)"
   ]
  },
  {
   "cell_type": "markdown",
   "metadata": {},
   "source": [
    "\n",
    ">> reverse the string\n"
   ]
  },
  {
   "cell_type": "code",
   "execution_count": 2,
   "metadata": {},
   "outputs": [
    {
     "name": "stdout",
     "output_type": "stream",
     "text": [
      "[9, 5, 3, 2, 1]\n"
     ]
    }
   ],
   "source": [
    "l=[1,2,3,5,9]\n",
    "l=l[::-1]\n",
    "print(l)"
   ]
  },
  {
   "cell_type": "markdown",
   "metadata": {},
   "source": [
    "\n",
    "# Slice\n",
    "\n",
    "```\n",
    "[start:end:step]\n",
    "```"
   ]
  },
  {
   "cell_type": "code",
   "execution_count": 3,
   "metadata": {},
   "outputs": [
    {
     "name": "stdout",
     "output_type": "stream",
     "text": [
      "[3, 5]\n"
     ]
    }
   ],
   "source": [
    "l=[1,2,3,5,9]\n",
    "print(l[2:4])"
   ]
  },
  {
   "cell_type": "code",
   "execution_count": 5,
   "metadata": {},
   "outputs": [
    {
     "data": {
      "text/plain": [
       "20"
      ]
     },
     "execution_count": 5,
     "metadata": {},
     "output_type": "execute_result"
    }
   ],
   "source": [
    "sum(l)"
   ]
  },
  {
   "cell_type": "code",
   "execution_count": 6,
   "metadata": {},
   "outputs": [
    {
     "data": {
      "text/plain": [
       "5"
      ]
     },
     "execution_count": 6,
     "metadata": {},
     "output_type": "execute_result"
    }
   ],
   "source": [
    "len(l)"
   ]
  },
  {
   "cell_type": "code",
   "execution_count": 7,
   "metadata": {},
   "outputs": [
    {
     "data": {
      "text/plain": [
       "9"
      ]
     },
     "execution_count": 7,
     "metadata": {},
     "output_type": "execute_result"
    }
   ],
   "source": [
    "max(l)"
   ]
  },
  {
   "cell_type": "code",
   "execution_count": 8,
   "metadata": {},
   "outputs": [
    {
     "data": {
      "text/plain": [
       "1"
      ]
     },
     "execution_count": 8,
     "metadata": {},
     "output_type": "execute_result"
    }
   ],
   "source": [
    "min(l)"
   ]
  },
  {
   "cell_type": "code",
   "execution_count": 9,
   "metadata": {},
   "outputs": [
    {
     "name": "stdout",
     "output_type": "stream",
     "text": [
      "[0, 2, 4, 10, 23, 34, 52, 70]\n"
     ]
    }
   ],
   "source": [
    "l=[10,2,4,70,23,0,34,52]\n",
    "l.sort()\n",
    "print(l)"
   ]
  },
  {
   "cell_type": "markdown",
   "metadata": {},
   "source": [
    "# Multidimension list\n",
    "> has 2 indexes \n",
    "  >> first primary indexing  \n",
    "  >> seconary index within primary"
   ]
  },
  {
   "cell_type": "code",
   "execution_count": 10,
   "metadata": {},
   "outputs": [
    {
     "name": "stdout",
     "output_type": "stream",
     "text": [
      "6\n"
     ]
    },
    {
     "data": {
      "text/plain": [
       "3"
      ]
     },
     "execution_count": 10,
     "metadata": {},
     "output_type": "execute_result"
    }
   ],
   "source": [
    "m=[[1,2,3],[4,5,6],[7,8,9]]\n",
    "print(m[1][2])\n",
    "\n",
    "len(m)"
   ]
  },
  {
   "cell_type": "code",
   "execution_count": 15,
   "metadata": {},
   "outputs": [
    {
     "name": "stdout",
     "output_type": "stream",
     "text": [
      "1\n",
      "2\n",
      "3\n",
      "4\n",
      "5\n",
      "6\n",
      "7\n",
      "8\n",
      "9\n"
     ]
    }
   ],
   "source": [
    "for i in m:\n",
    "    for j in i:\n",
    "        print(j)"
   ]
  },
  {
   "cell_type": "markdown",
   "metadata": {},
   "source": [
    "# using list comprehension"
   ]
  },
  {
   "cell_type": "code",
   "execution_count": 19,
   "metadata": {},
   "outputs": [
    {
     "name": "stdout",
     "output_type": "stream",
     "text": [
      "10 20 30 40 50 60 70 80 90 100\n"
     ]
    }
   ],
   "source": [
    "\n",
    "l=[i*10 for i in range(1,11)]\n",
    "print(*l)"
   ]
  },
  {
   "cell_type": "markdown",
   "metadata": {},
   "source": [
    "# Append,Extend & insert"
   ]
  },
  {
   "cell_type": "code",
   "execution_count": null,
   "metadata": {},
   "outputs": [],
   "source": [
    "a=[]"
   ]
  },
  {
   "cell_type": "code",
   "execution_count": 38,
   "metadata": {},
   "outputs": [],
   "source": [
    "a.append(int(input(\"enter a number: \")))"
   ]
  },
  {
   "cell_type": "code",
   "execution_count": 39,
   "metadata": {},
   "outputs": [
    {
     "name": "stdout",
     "output_type": "stream",
     "text": [
      "[12, 2, 4, 80, 10, 8]\n"
     ]
    }
   ],
   "source": [
    "print(a)"
   ]
  },
  {
   "cell_type": "code",
   "execution_count": 42,
   "metadata": {},
   "outputs": [
    {
     "name": "stdout",
     "output_type": "stream",
     "text": [
      "[11, 11, 11, 12, 2, 4, 80, 10, 8]\n"
     ]
    }
   ],
   "source": [
    "a.insert(-10,11)\n",
    "print(a)"
   ]
  },
  {
   "cell_type": "code",
   "execution_count": 49,
   "metadata": {},
   "outputs": [
    {
     "name": "stdout",
     "output_type": "stream",
     "text": [
      "[1, 2, 3, 10, 20, 30, 34, 5, 8, 11]\n"
     ]
    }
   ],
   "source": [
    "m=[[1,2,3],[10,20,30],[34,5,8,11]]\n",
    "m2=[]\n",
    "for i in m:\n",
    "    for j in i:\n",
    "        m2.append(j)\n",
    "print(m2)"
   ]
  },
  {
   "cell_type": "code",
   "execution_count": 50,
   "metadata": {},
   "outputs": [
    {
     "name": "stdout",
     "output_type": "stream",
     "text": [
      "[1, 2, 3, 10, 20, 30, 34, 5, 8, 11]\n"
     ]
    }
   ],
   "source": [
    "m3=[]\n",
    "for i in m:\n",
    "    m3.extend(i)\n",
    "print(m3)"
   ]
  },
  {
   "cell_type": "markdown",
   "metadata": {},
   "source": [
    "# remove,pop,clear\n",
    "```\n",
    ".remove(x)\n",
    " > it will remove the element passed 'x'  \n",
    " > it will pass error if element not found\n",
    "```\n",
    "\n",
    "```\n",
    ".pop(y)\n",
    " > it will delete the element at the 'y' index\n",
    " > it will delete last element if 'y' is not passed\n",
    " > if incorrect index passed it will return error *stack overflow*\n",
    "```\n",
    "\n",
    "```\n",
    ".clear\n",
    " > it will completely flush the list\n",
    "```"
   ]
  },
  {
   "cell_type": "code",
   "execution_count": 53,
   "metadata": {},
   "outputs": [
    {
     "name": "stdout",
     "output_type": "stream",
     "text": [
      "[12, 2, 4, 80, 10, 8]\n"
     ]
    }
   ],
   "source": [
    "a.remove(11)\n",
    "print(a)"
   ]
  },
  {
   "cell_type": "code",
   "execution_count": 54,
   "metadata": {},
   "outputs": [
    {
     "data": {
      "text/plain": [
       "8"
      ]
     },
     "execution_count": 54,
     "metadata": {},
     "output_type": "execute_result"
    }
   ],
   "source": [
    "a.pop()"
   ]
  },
  {
   "cell_type": "code",
   "execution_count": 55,
   "metadata": {},
   "outputs": [],
   "source": [
    "a.clear()"
   ]
  },
  {
   "cell_type": "markdown",
   "metadata": {},
   "source": [
    "# Sort, count , reverse"
   ]
  },
  {
   "cell_type": "code",
   "execution_count": 58,
   "metadata": {},
   "outputs": [],
   "source": [
    "m.sort()"
   ]
  },
  {
   "cell_type": "markdown",
   "metadata": {},
   "source": [
    "```\n",
    "keep accepting elements from user till blank is given\n",
    "add all elements in list\n",
    "print sum of all elements\n",
    "```\n",
    "\n",
    "```\n",
    "print all elements > average of all\n",
    "```"
   ]
  },
  {
   "cell_type": "code",
   "execution_count": 68,
   "metadata": {},
   "outputs": [
    {
     "name": "stdout",
     "output_type": "stream",
     "text": [
      "407\n",
      "33.916666666666664\n",
      "45\n",
      "65\n",
      "45\n",
      "89\n",
      "90\n"
     ]
    }
   ],
   "source": [
    "a=[]\n",
    "while(True):\n",
    "    data=input(\"enter a number: \")\n",
    "    if data =='':\n",
    "        break\n",
    "    a.append(int(data))\n",
    "print(sum(a))\n",
    "avg=sum(a)/len(a)\n",
    "print(avg)\n",
    "for i in a:\n",
    "    if i>avg:\n",
    "        print(i)"
   ]
  },
  {
   "cell_type": "markdown",
   "metadata": {},
   "source": [
    "# Tuple\n",
    "+ Once declared cant be changed  \n",
    "+ but can be overwritten  \n",
    "  + List within tuple is dynamic"
   ]
  },
  {
   "cell_type": "code",
   "execution_count": 69,
   "metadata": {},
   "outputs": [
    {
     "name": "stdout",
     "output_type": "stream",
     "text": [
      "11\n",
      "22\n",
      "33\n",
      "11\n",
      "55\n"
     ]
    }
   ],
   "source": [
    "t=(11,22,33,11,55)\n",
    "for i in t:\n",
    "    print(i)"
   ]
  },
  {
   "cell_type": "code",
   "execution_count": 70,
   "metadata": {},
   "outputs": [
    {
     "name": "stdout",
     "output_type": "stream",
     "text": [
      "@ 0 we have: 11\n",
      "@ 1 we have: 22\n",
      "@ 2 we have: 33\n",
      "@ 3 we have: 11\n",
      "@ 4 we have: 55\n"
     ]
    }
   ],
   "source": [
    "for i in range(len(t)):\n",
    "    print(\"@\",i,\"we have:\",t[i])"
   ]
  },
  {
   "cell_type": "code",
   "execution_count": 71,
   "metadata": {},
   "outputs": [
    {
     "name": "stdout",
     "output_type": "stream",
     "text": [
      "(11, 22, [10, 20, 30])\n"
     ]
    }
   ],
   "source": [
    "t=(11,22,[10,20,30])\n",
    "print(t)\n"
   ]
  },
  {
   "cell_type": "code",
   "execution_count": 72,
   "metadata": {},
   "outputs": [],
   "source": [
    "t[2].extend([100,200,300])\n"
   ]
  },
  {
   "cell_type": "code",
   "execution_count": 73,
   "metadata": {},
   "outputs": [
    {
     "name": "stdout",
     "output_type": "stream",
     "text": [
      "(11, 22, [10, 20, 30, 100, 200, 300])\n"
     ]
    }
   ],
   "source": [
    "print(t)"
   ]
  },
  {
   "cell_type": "markdown",
   "metadata": {},
   "source": [
    "# SET\n",
    "\n",
    "+ Union\n",
    "+ Intersection\n",
    "+ Difference\n",
    "\n",
    "![Alt text](image.png)\n",
    "\n",
    "```\n",
    "set is auto-iterated but cant be access by index\n",
    "```"
   ]
  },
  {
   "cell_type": "code",
   "execution_count": 1,
   "metadata": {},
   "outputs": [
    {
     "name": "stdout",
     "output_type": "stream",
     "text": [
      "{1, 2, 3, 4, 5, 6, 7, 8, 9, 10}\n",
      "set()\n",
      "{1, 2, 3, 4, 5, 6, 7, 8, 9, 10}\n",
      "{1, 3, 5, 7, 9}\n",
      "{2, 4, 6, 8, 10}\n"
     ]
    }
   ],
   "source": [
    "a={1,3,5,7,9}\n",
    "b={2,4,6,8,10}\n",
    "print(a|b)\n",
    "print(a&b)\n",
    "print(a^b)\n",
    "print(a-b)\n",
    "print(b-a)"
   ]
  },
  {
   "cell_type": "code",
   "execution_count": 5,
   "metadata": {},
   "outputs": [
    {
     "name": "stdout",
     "output_type": "stream",
     "text": [
      "Multitalented: 1\n",
      "Holiday: 10 2 3 5\n"
     ]
    }
   ],
   "source": [
    "all={1,2,3,4,5,6,7,8,9,10}\n",
    "dance={1,4,9}\n",
    "sing={1,7,8}\n",
    "backstage={1,4,6}\n",
    "\n",
    "print(\"Multitalented:\",*dance&sing&backstage)\n",
    "print(\"Holiday:\",*all-(dance|sing|backstage))"
   ]
  },
  {
   "cell_type": "markdown",
   "metadata": {},
   "source": [
    "## Set methods\n",
    "+ add\n",
    "+ update\n",
    "+ remove\n",
    "+ discard"
   ]
  },
  {
   "cell_type": "code",
   "execution_count": 6,
   "metadata": {},
   "outputs": [],
   "source": [
    "s=set()\n",
    "s.add(100)\n",
    "s.add(200)\n",
    "s.add(300)\n",
    "s.add(100)"
   ]
  },
  {
   "cell_type": "code",
   "execution_count": 7,
   "metadata": {},
   "outputs": [
    {
     "data": {
      "text/plain": [
       "{100, 200, 300}"
      ]
     },
     "execution_count": 7,
     "metadata": {},
     "output_type": "execute_result"
    }
   ],
   "source": [
    "s"
   ]
  },
  {
   "cell_type": "code",
   "execution_count": 8,
   "metadata": {},
   "outputs": [
    {
     "name": "stdout",
     "output_type": "stream",
     "text": [
      "{200, 100, 300}\n"
     ]
    }
   ],
   "source": [
    "print(s)"
   ]
  },
  {
   "cell_type": "markdown",
   "metadata": {},
   "source": [
    "```\n",
    "l=[11,22,11,33,44,22,66,77,99,22,11,22,33]\n",
    "print count of each unique element in sorted order\n",
    "```"
   ]
  },
  {
   "cell_type": "code",
   "execution_count": 15,
   "metadata": {},
   "outputs": [
    {
     "name": "stdout",
     "output_type": "stream",
     "text": [
      "11 --> 3\n",
      "22 --> 4\n",
      "33 --> 2\n",
      "44 --> 1\n",
      "66 --> 1\n",
      "77 --> 1\n",
      "99 --> 1\n"
     ]
    }
   ],
   "source": [
    "l=[11,22,11,33,44,22,66,77,99,22,11,22,33]\n",
    "s=sorted(set(l))\n",
    "for i in s:\n",
    "    print(i,\"-->\",l.count(i))"
   ]
  },
  {
   "cell_type": "markdown",
   "metadata": {},
   "source": [
    "# Dictionary\n",
    "+ works in Key:value pair\n",
    "+ Key has to be unique \n",
    "  + values can be duplicate"
   ]
  },
  {
   "cell_type": "markdown",
   "metadata": {},
   "source": [
    "```\n",
    "read a number and print in words\n",
    "eg. : 361 --> three six one\n",
    "```"
   ]
  },
  {
   "cell_type": "code",
   "execution_count": 24,
   "metadata": {},
   "outputs": [
    {
     "name": "stdout",
     "output_type": "stream",
     "text": [
      "123 --> One Two Three "
     ]
    }
   ],
   "source": [
    "d={1:\"One\",2:\"Two\",3:\"Three\",4:\"Four\",5:\"Five\",6:\"Six\",7:\"Seven\",8:\"Eight\",9:\"Nine\",0:\"Zero\"}\n",
    "n=int(input(\"enter a number: \"))\n",
    "print(n,\"-->\",end=\" \")\n",
    "for i in str(n):\n",
    "    print(d[int(i)],end=\" \")\n",
    "\n"
   ]
  },
  {
   "cell_type": "markdown",
   "metadata": {},
   "source": [
    "```\n",
    "Consider\n",
    "l=[11,2,1,56,78,9,23,65,89,67,5,12,34,11,23]\n",
    "create 2 lists one with greater than avg & one small/equal\n",
    "```"
   ]
  },
  {
   "cell_type": "code",
   "execution_count": 28,
   "metadata": {},
   "outputs": [
    {
     "name": "stdout",
     "output_type": "stream",
     "text": [
      "avg: 32.4\n",
      "above avg: 56 78 65 89 67 34\n",
      "below avg: 11 2 1 9 23 5 12 11 23\n"
     ]
    }
   ],
   "source": [
    "l=[11,2,1,56,78,9,23,65,89,67,5,12,34,11,23]\n",
    "avg=sum(l)/len(l)\n",
    "print(\"avg:\",avg)\n",
    "\n",
    "l2=[x for x in l if x>avg]\n",
    "print(\"above avg:\",*l2)\n",
    "l3=[x for x in l if x<=avg]\n",
    "print(\"below avg:\",*l3)"
   ]
  },
  {
   "cell_type": "markdown",
   "metadata": {},
   "source": [
    "```\n",
    "l=[11,22,33,44,55]\n",
    "\n",
    "cycle the list and print all cycles\n",
    "\n",
    "eg:\n",
    "11,22,33,44,55\n",
    "22,33,44,55,11\n",
    "33,44,55,11,22\n",
    "...\n",
    "11,22,33,44,55\n",
    "```"
   ]
  },
  {
   "cell_type": "code",
   "execution_count": 35,
   "metadata": {},
   "outputs": [
    {
     "name": "stdout",
     "output_type": "stream",
     "text": [
      "[11, 22, 33, 44, 55]\n",
      "[55, 11, 22, 33, 44]\n",
      "[44, 55, 11, 22, 33]\n",
      "[33, 44, 55, 11, 22]\n",
      "[22, 33, 44, 55, 11]\n",
      "[11, 22, 33, 44, 55]\n"
     ]
    }
   ],
   "source": [
    "l=[11,22,33,44,55]\n",
    "print(l)\n",
    "y=len(l)\n",
    "for i in range(y):\n",
    "    x=l.pop()\n",
    "    l.insert(0,x)\n",
    "    print(l)"
   ]
  },
  {
   "cell_type": "markdown",
   "metadata": {},
   "source": [
    "```\n",
    "below is the list of emp\n",
    "and the seat no. available\n",
    "create an dictionary out of it\n",
    "```"
   ]
  },
  {
   "cell_type": "code",
   "execution_count": 37,
   "metadata": {},
   "outputs": [
    {
     "name": "stdout",
     "output_type": "stream",
     "text": [
      "{1: 'aa', 2: 'bb', 3: 'cc', 4: 'dd'}\n"
     ]
    }
   ],
   "source": [
    "s=[1,2,3,4]\n",
    "n=['bb','aa','cc','dd']\n",
    "s.sort()\n",
    "n.sort()\n",
    "\n",
    "mapped=dict(zip(s,n))\n",
    "print(mapped)"
   ]
  },
  {
   "cell_type": "markdown",
   "metadata": {},
   "source": [
    "# Strings\n",
    "\n",
    "+ we can use single,double & triple quotes for string\n",
    "+ triple can go multi line\n"
   ]
  },
  {
   "cell_type": "code",
   "execution_count": 46,
   "metadata": {},
   "outputs": [
    {
     "name": "stdout",
     "output_type": "stream",
     "text": [
      "* * * * * \n",
      " * * * * \n",
      "  * * * \n",
      "   * * \n",
      "    * \n"
     ]
    }
   ],
   "source": [
    "\n",
    "a=\" \"\n",
    "for i in range(5,0,-1):\n",
    "    print(a*(5-i)+\"* \"*i)"
   ]
  },
  {
   "cell_type": "markdown",
   "metadata": {},
   "source": [
    "```\n",
    "create centre of size n\n",
    "\n",
    "n entered by user\n",
    "```"
   ]
  },
  {
   "cell_type": "code",
   "execution_count": 57,
   "metadata": {},
   "outputs": [
    {
     "name": "stdout",
     "output_type": "stream",
     "text": [
      "          \n",
      "         $ \n",
      "        * * \n",
      "       $ $ $ \n",
      "      * * * * \n",
      "     $ $ $ $ $ \n",
      "    * * * * * * \n",
      "   $ $ $ $ $ $ $ \n",
      "  * * * * * * * * \n",
      " $ $ $ $ $ $ $ $ $ \n"
     ]
    }
   ],
   "source": [
    "n=int(input(\"enter a number: \"))\n",
    "a=\" \"\n",
    "b=\"* \"\n",
    "c=\"$ \"\n",
    "for i in range(0,n,1):\n",
    "    if i%2==0:\n",
    "        print(a*(n-i)+b*i)\n",
    "    else:\n",
    "        print(a*(n-i)+c*i)\n"
   ]
  },
  {
   "cell_type": "code",
   "execution_count": 62,
   "metadata": {},
   "outputs": [
    {
     "name": "stdout",
     "output_type": "stream",
     "text": [
      "A B C D E F G H I J K L M N O P Q R S T U V W X Y Z "
     ]
    }
   ],
   "source": [
    "# print A to Z using loop\n",
    "for i in range(ord('A'),ord('Z')+1,1):\n",
    "    print(chr(i),end=\" \")\n"
   ]
  },
  {
   "cell_type": "markdown",
   "metadata": {},
   "source": [
    "```\n",
    "Triangle of Alphabets\n",
    "```"
   ]
  },
  {
   "cell_type": "code",
   "execution_count": 70,
   "metadata": {},
   "outputs": [
    {
     "name": "stdout",
     "output_type": "stream",
     "text": [
      "       A \n",
      "      A B \n",
      "     A B C \n",
      "    A B C D \n",
      "   A B C D E \n",
      "  A B C D E F \n"
     ]
    }
   ],
   "source": [
    "n=int(input(\"enter a number: \"))\n",
    "a=\" \"\n",
    "for i in range(0,n,1):\n",
    "    print(a*(n-i),end=\" \")\n",
    "    for k in range(ord('A'),ord('A')+i+1,1):\n",
    "        print(chr(k ),end=\" \")\n",
    "    print()"
   ]
  },
  {
   "cell_type": "markdown",
   "metadata": {},
   "source": [
    "## Slicing\n"
   ]
  },
  {
   "cell_type": "code",
   "execution_count": 74,
   "metadata": {},
   "outputs": [
    {
     "name": "stdout",
     "output_type": "stream",
     "text": [
      "p\n",
      "py\n",
      "pyt\n",
      "pyth\n",
      "pytho\n",
      "python\n"
     ]
    }
   ],
   "source": [
    "p=\"python\"\n",
    "for i in range(len(p)):\n",
    "    print(p[:i+1])"
   ]
  },
  {
   "cell_type": "markdown",
   "metadata": {},
   "source": [
    "```\n",
    "Find vowels - a,e,i,o,u\n",
    "count vowels in line\n",
    "eg.\n",
    "a --> 2\n",
    "e --> 3\n",
    "```"
   ]
  },
  {
   "cell_type": "code",
   "execution_count": 5,
   "metadata": {},
   "outputs": [
    {
     "name": "stdout",
     "output_type": "stream",
     "text": [
      "a --> 5\n",
      "e --> 2\n",
      "i --> 4\n",
      "o --> 3\n",
      "u --> 1\n",
      "total vowels: 15\n"
     ]
    }
   ],
   "source": [
    "line=\"python is a programming language my NAME IS Omi\"\n",
    "line=line.lower()\n",
    "vowels=\"aeiou\"\n",
    "sum=0\n",
    "for i in vowels:\n",
    "    print(i,\"-->\",line.count(i))\n",
    "    sum+=line.count(i)\n",
    "print(\"total vowels:\",sum)\n"
   ]
  },
  {
   "cell_type": "markdown",
   "metadata": {},
   "source": [
    "Character Count of unique characters"
   ]
  },
  {
   "cell_type": "code",
   "execution_count": 12,
   "metadata": {},
   "outputs": [
    {
     "name": "stdout",
     "output_type": "stream",
     "text": [
      "& --> 1\n",
      "A --> 1\n",
      "E --> 1\n",
      "I --> 1\n",
      "M --> 1\n",
      "N --> 1\n",
      "O --> 1\n",
      "S --> 1\n",
      "a --> 4\n",
      "e --> 1\n",
      "g --> 4\n",
      "h --> 1\n",
      "i --> 2\n",
      "l --> 1\n",
      "m --> 4\n",
      "n --> 3\n",
      "o --> 2\n",
      "p --> 2\n",
      "r --> 2\n",
      "s --> 1\n",
      "t --> 1\n",
      "u --> 1\n",
      "y --> 2\n"
     ]
    }
   ],
   "source": [
    "word=\"python is a programming language & my NAME IS Om\"\n",
    "sword=sorted(set(word))\n",
    "# remove space and & from sword\n",
    "sword.remove(\" \")\n",
    "\n",
    "for i in sword:\n",
    "    print(i,\"-->\",word.count(i))    "
   ]
  },
  {
   "cell_type": "code",
   "execution_count": 13,
   "metadata": {},
   "outputs": [],
   "source": [
    "s=\"this is a string\"\n",
    "s=s.replace(\" is \",\" was \")"
   ]
  },
  {
   "cell_type": "code",
   "execution_count": 14,
   "metadata": {},
   "outputs": [
    {
     "name": "stdout",
     "output_type": "stream",
     "text": [
      "this was a string\n"
     ]
    }
   ],
   "source": [
    "print(s)"
   ]
  },
  {
   "cell_type": "markdown",
   "metadata": {},
   "source": [
    "```\n",
    "count number of words in line\n",
    "```"
   ]
  },
  {
   "cell_type": "code",
   "execution_count": 15,
   "metadata": {},
   "outputs": [
    {
     "name": "stdout",
     "output_type": "stream",
     "text": [
      "9\n"
     ]
    }
   ],
   "source": [
    "line=\"python is a programming language my NAME IS Omi\"\n",
    "print(len(line.split()))"
   ]
  },
  {
   "cell_type": "code",
   "execution_count": 18,
   "metadata": {},
   "outputs": [
    {
     "name": "stdout",
     "output_type": "stream",
     "text": [
      "Omi IS NAME my language programming a is python \n",
      "Omi IS NAME my language programming a is python\n"
     ]
    }
   ],
   "source": [
    "lin1=line.split()\n",
    "lin1=lin1[::-1]\n",
    "for i in lin1:\n",
    "    print(i,end=\" \")\n",
    "print()\n",
    "print(*lin1)"
   ]
  },
  {
   "cell_type": "markdown",
   "metadata": {},
   "source": [
    "```\n",
    "print word count for each word in order for given line\n",
    "```"
   ]
  },
  {
   "cell_type": "code",
   "execution_count": 25,
   "metadata": {},
   "outputs": [
    {
     "name": "stdout",
     "output_type": "stream",
     "text": [
      "WAS --> 1\n",
      "case --> 1\n",
      "in --> 1\n",
      "is --> 2\n",
      "that --> 1\n",
      "this --> 3\n",
      "was --> 1\n"
     ]
    }
   ],
   "source": [
    "#print word count for each word in order for given line\n",
    "line=\"this is was this is that this case WAS in\"\n",
    "l1=line.split()\n",
    "l2=sorted(set(l1))\n",
    "for i in l2:\n",
    "    print(i,\"-->\",l1.count(i))\n"
   ]
  },
  {
   "cell_type": "markdown",
   "metadata": {},
   "source": [
    "```\n",
    "Shopping List\n",
    "menu driven\n",
    "add item\n",
    "remove item\n",
    "print\n",
    "```"
   ]
  },
  {
   "cell_type": "markdown",
   "metadata": {},
   "source": [
    "> Code in ../test.py"
   ]
  }
 ],
 "metadata": {
  "kernelspec": {
   "display_name": "Python 3",
   "language": "python",
   "name": "python3"
  },
  "language_info": {
   "codemirror_mode": {
    "name": "ipython",
    "version": 3
   },
   "file_extension": ".py",
   "mimetype": "text/x-python",
   "name": "python",
   "nbconvert_exporter": "python",
   "pygments_lexer": "ipython3",
   "version": "3.11.1"
  },
  "orig_nbformat": 4
 },
 "nbformat": 4,
 "nbformat_minor": 2
}
