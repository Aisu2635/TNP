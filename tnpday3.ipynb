{
 "cells": [
  {
   "cell_type": "markdown",
   "metadata": {},
   "source": [
    "# Day 3 <br> \n",
    "### OOPS & Functions"
   ]
  },
  {
   "cell_type": "markdown",
   "metadata": {},
   "source": [
    "# Functions\n",
    "> code written away from the script, when called control gets transfered.  \n",
    "> code gets executed & comes back to the script\n",
    "\n",
    "+ reuse\n",
    "+ Faster developing\n",
    "+ modular programming\n",
    "\n",
    "<h4>By Default the functions are overloaded by data type, Multiple Functions can be used for different data types</h4>"
   ]
  },
  {
   "cell_type": "markdown",
   "metadata": {},
   "source": [
    "> <h2>SYNTAX</h2>\n",
    "```py\n",
    "def name():\n",
    "    #code here\n",
    "    .\n",
    "    .\n",
    "    .\n",
    "    #code end\n",
    "```\n",
    "> You have to call the function to make it run\n",
    "+ python primitive are passed by value \n",
    "    - changes are only seen in function\n",
    "    - if we need to see RND\n",
    "+ python data structures are passed by ref\n",
    "    - Changes are seen Globally\n",
    "    - if changes are at several places\n"
   ]
  },
  {
   "cell_type": "code",
   "execution_count": 1,
   "metadata": {},
   "outputs": [
    {
     "name": "stdout",
     "output_type": "stream",
     "text": [
      "Hello World!\n"
     ]
    }
   ],
   "source": [
    "def hello():\n",
    "    print(\"Hello World!\")\n",
    "\n",
    "hello()"
   ]
  },
  {
   "cell_type": "code",
   "execution_count": 2,
   "metadata": {},
   "outputs": [],
   "source": [
    "def doubler(no):\n",
    "    print(no,\"before doubling\")\n",
    "    no = no * 2\n",
    "    print(no,\"after doubling\")"
   ]
  },
  {
   "cell_type": "code",
   "execution_count": 4,
   "metadata": {},
   "outputs": [
    {
     "name": "stdout",
     "output_type": "stream",
     "text": [
      "10 before calling doubler\n",
      "10 before doubling\n",
      "20 after doubling\n",
      "10 after calling doubler\n"
     ]
    }
   ],
   "source": [
    "a=10\n",
    "print(a,\"before calling doubler\")\n",
    "doubler(a)\n",
    "print(a,\"after calling doubler\")"
   ]
  },
  {
   "cell_type": "markdown",
   "metadata": {},
   "source": [
    ">Passing A Data Structure for Pass by Ref"
   ]
  },
  {
   "cell_type": "code",
   "execution_count": 5,
   "metadata": {},
   "outputs": [
    {
     "name": "stdout",
     "output_type": "stream",
     "text": [
      "10 before calling doubler\n",
      "10 before doubling\n",
      "20 after doubling\n",
      "20 after calling doubler\n"
     ]
    }
   ],
   "source": [
    "def doubler2(no):\n",
    "    print(no[0],\"before doubling\")\n",
    "    no[0] = no[0] * 2\n",
    "    print(no[0],\"after doubling\")\n",
    "\n",
    "a=[10]\n",
    "print(*a,\"before calling doubler\")\n",
    "doubler2(a)\n",
    "print(*a,\"after calling doubler\")"
   ]
  },
  {
   "cell_type": "markdown",
   "metadata": {},
   "source": [
    "> Functions are overloaded & hence Polymorphic in nature wrt data type"
   ]
  },
  {
   "cell_type": "code",
   "execution_count": 6,
   "metadata": {},
   "outputs": [
    {
     "name": "stdout",
     "output_type": "stream",
     "text": [
      "10 + 20 = 30\n",
      "hello + world = helloworld\n"
     ]
    }
   ],
   "source": [
    "def add(a,b):\n",
    "    print(a,\"+\",b,\"=\",a+b)\n",
    "\n",
    "add(10,20)\n",
    "add(\"hello\",\"world\")"
   ]
  },
  {
   "cell_type": "markdown",
   "metadata": {},
   "source": [
    "```py\n",
    "return:\n",
    "```\n",
    "+ return control back to script\n",
    "+ return in py can pass 1 as well as n data\n",
    "+ 1 data maintains primitive type\n",
    "+ n data uses tuple---security \n",
    "    + once created no one can modify"
   ]
  },
  {
   "cell_type": "markdown",
   "metadata": {},
   "source": [
    "```\n",
    "Write a Function to return minimum of 2 passed no.\n",
    "```"
   ]
  },
  {
   "cell_type": "code",
   "execution_count": 8,
   "metadata": {},
   "outputs": [
    {
     "name": "stdout",
     "output_type": "stream",
     "text": [
      "10 is minimum\n"
     ]
    }
   ],
   "source": [
    "def min(a,b):\n",
    "    if a<b:\n",
    "        return a\n",
    "    else:\n",
    "        return b\n",
    "    \n",
    "print(min(10,20),\"is minimum\")"
   ]
  },
  {
   "cell_type": "markdown",
   "metadata": {},
   "source": [
    "```\n",
    "Write a function that will append sum of list in the end of the list\n",
    "adder function\n",
    "```"
   ]
  },
  {
   "cell_type": "code",
   "execution_count": 13,
   "metadata": {},
   "outputs": [
    {
     "name": "stdout",
     "output_type": "stream",
     "text": [
      "[10, 20, 30, 60]\n"
     ]
    }
   ],
   "source": [
    "def adder(a):\n",
    "    summ=sum(a)\n",
    "    a.append(summ)\n",
    "\n",
    "a=[10,20,30]\n",
    "adder(a)\n",
    "print(a)"
   ]
  },
  {
   "cell_type": "markdown",
   "metadata": {},
   "source": [
    "```\n",
    "write function initial_creator that takes F_name,M_name,L_name\n",
    "return Initials\n",
    "inputs: OM Rajesh Hinge\n",
    "return: O R H\n",
    "```"
   ]
  },
  {
   "cell_type": "code",
   "execution_count": 14,
   "metadata": {},
   "outputs": [
    {
     "name": "stdout",
     "output_type": "stream",
     "text": [
      "('O', 'R', 'H')\n"
     ]
    }
   ],
   "source": [
    "def ic(F_n,M_n,L_n):\n",
    "    return(F_n[0],M_n[0],L_n[0])\n",
    "\n",
    "print(ic(\"Om\",\"Rajesh\",\"Hinge\"))"
   ]
  },
  {
   "cell_type": "markdown",
   "metadata": {},
   "source": [
    "```\n",
    "Find Missing element\n",
    "input list of number with one missing\n",
    "series 1,2,3,4,5,6,7,8-->2,3,1,5,6,7,8\n",
    "return missing no.\n",
    "```"
   ]
  },
  {
   "cell_type": "code",
   "execution_count": 25,
   "metadata": {},
   "outputs": [
    {
     "name": "stdout",
     "output_type": "stream",
     "text": [
      "[2, 3, 5, 7, 6, 8, 1]\n",
      "4\n"
     ]
    }
   ],
   "source": [
    "inpu=[2,3,5,7,6,8,1]\n",
    "print(inpu)\n",
    "\n",
    "def miss(inpu):\n",
    "    o_sum=sum(inpu)\n",
    "    n=len(inpu)+1\n",
    "    e_sum=(n*(n+1))//2\n",
    "    return e_sum-o_sum\n",
    "\n",
    "print(miss(inpu))"
   ]
  },
  {
   "cell_type": "markdown",
   "metadata": {},
   "source": [
    "# Recurrsion\n",
    "### Keep Recursion as the Last option\n",
    "\n",
    "<h6>Cons</h6>\n",
    "\n",
    "+ Code Runs Slower  \n",
    "+ Takes more memory  \n",
    "+ complex to understand\n",
    "<h6>Pros</h6>\n",
    "\n",
    "+ is Short & smaller to write"
   ]
  },
  {
   "cell_type": "code",
   "execution_count": 26,
   "metadata": {},
   "outputs": [
    {
     "name": "stdout",
     "output_type": "stream",
     "text": [
      "120\n"
     ]
    }
   ],
   "source": [
    "def fact(n):\n",
    "    if n==0:\n",
    "        return 1\n",
    "    else:\n",
    "        return n*fact(n-1)\n",
    "    \n",
    "print(fact(5))"
   ]
  },
  {
   "cell_type": "markdown",
   "metadata": {},
   "source": [
    "```\n",
    "GCD & LCM\n",
    "use recursion to find GCD & LCM of the no.\n",
    "```\n",
    "#### Hint:\n",
    "+ take no1%no2\n",
    "+ replace no1 with no2 & no2 with no1%no2\n",
    "+ if no2 perfectly divisibly by no1 then return no2"
   ]
  },
  {
   "cell_type": "code",
   "execution_count": 30,
   "metadata": {},
   "outputs": [
    {
     "name": "stdout",
     "output_type": "stream",
     "text": [
      "6\n",
      "20\n"
     ]
    }
   ],
   "source": [
    "def gcd(a,b):\n",
    "    if a%b==0:\n",
    "        return b\n",
    "    else:\n",
    "        return gcd(b,a%b)\n",
    "    \n",
    "def lcm(a,b):\n",
    "    return (a*b)//gcd(a,b)\n",
    "\n",
    "print(gcd(18,12))\n",
    "print(lcm(10,20))"
   ]
  },
  {
   "cell_type": "markdown",
   "metadata": {},
   "source": [
    "```\n",
    "code power function using recursion\n",
    "input: power(2,4)---->16\n",
    "```"
   ]
  },
  {
   "cell_type": "code",
   "execution_count": 36,
   "metadata": {},
   "outputs": [
    {
     "name": "stdout",
     "output_type": "stream",
     "text": [
      "16\n"
     ]
    }
   ],
   "source": [
    "def power(a,b):\n",
    "    if b==0:\n",
    "        return 1\n",
    "    else:\n",
    "        return a*power(a,b-1)\n",
    "a=2\n",
    "b=4\n",
    "print(power(a,b))"
   ]
  },
  {
   "cell_type": "markdown",
   "metadata": {},
   "source": [
    "#### Key Value Parameter\n",
    "> one can give data in any order but in key value pair\n",
    "\n",
    "#### Default Value Parameter\n",
    "> one can set default values for un specified parameters to be passed"
   ]
  },
  {
   "cell_type": "code",
   "execution_count": 38,
   "metadata": {},
   "outputs": [
    {
     "name": "stdout",
     "output_type": "stream",
     "text": [
      "Hello Om you are 20 years old\n",
      "Hello Om you are a student\n"
     ]
    }
   ],
   "source": [
    "def intro(name,age):\n",
    "    print(\"Hello\",name,\"you are\",age,\"years old\")\n",
    "intro(\"Om\",20)\n",
    "\n",
    "def intro2(name,job=\"student\"):\n",
    "    print(\"Hello\",name,\"you are a\",job)\n",
    "\n",
    "intro2(\"Om\")"
   ]
  },
  {
   "cell_type": "markdown",
   "metadata": {},
   "source": [
    "```py\n",
    "using parameter passing send n elements to function\n",
    "return : sum,avg,min & max elements in one pass from function\n",
    "```"
   ]
  },
  {
   "cell_type": "code",
   "execution_count": 1,
   "metadata": {},
   "outputs": [],
   "source": [
    "# def analyser(*args):\n",
    "#     s=sum(args)\n",
    "#     avg=s/len(args)\n",
    "#     mi=min(args)\n",
    "#     ma=max(args)\n",
    "#     return(s,avg,mi,ma)\n",
    "\n",
    "# data=analyser(10,2,3,6,9,100)\n",
    "# print(\"sum=\",data[0],\"avg=\",data[1],\"min=\",data[2],\"max=\",data[3])"
   ]
  },
  {
   "cell_type": "markdown",
   "metadata": {},
   "source": [
    "- iterator (ITERATION)\n",
    "    - iterator over a sequence list, tuple, string\n",
    "    - iter() & next()\n",
    "- generator\n",
    "    - will iterate over generated value on runtime\n",
    "    - function that stops at regular intervals and generates value\n",
    "    - ex:tools controls to change--image editing\n",
    "- decorator\n",
    "    - reuses old function with new cover\n",
    "    - old function wrapper---> new functionalities\n",
    "    -                     ---> new way of calling    \n",
    "- yield--where to stop\n",
    "- function to polymorphism\n"
   ]
  },
  {
   "cell_type": "code",
   "execution_count": 2,
   "metadata": {},
   "outputs": [
    {
     "data": {
      "text/plain": [
       "1"
      ]
     },
     "execution_count": 2,
     "metadata": {},
     "output_type": "execute_result"
    }
   ],
   "source": [
    "dlist = [1,2,3,4,5,6,7,8,9,10]\n",
    "i = iter(dlist) # connect to iterator\n",
    "next(i) # one at a time access"
   ]
  },
  {
   "cell_type": "code",
   "execution_count": 19,
   "metadata": {},
   "outputs": [
    {
     "name": "stdout",
     "output_type": "stream",
     "text": [
      "Year 1 : 1100.0\n",
      "Year 2 : 1210.0\n",
      "Year 3 : 1331.0\n",
      "Year 4 : 1464.1\n",
      "Year 5 : 1610.51\n"
     ]
    }
   ],
   "source": [
    "def interest(amount, n):\n",
    "    for i in range(1, n+1):\n",
    "        amount = amount + amount * 0.1\n",
    "        print(\"Year\", i, \":\", amount)\n",
    "\n",
    "interest(1000, 5) "
   ]
  },
  {
   "cell_type": "code",
   "execution_count": 20,
   "metadata": {},
   "outputs": [
    {
     "name": "stdout",
     "output_type": "stream",
     "text": [
      "Hello Om\n"
     ]
    }
   ],
   "source": [
    "def welcome(name):\n",
    "    print(\"Hello\", name)\n",
    "welcome(\"Om\")\n"
   ]
  },
  {
   "cell_type": "markdown",
   "metadata": {},
   "source": [
    "# OOPS\n",
    "> oops is a thinking method that starts with objective(o/p), process(to get o/p), input  \n",
    "[x]more natural  \n",
    "[x]faster  \n",
    "[x]max used"
   ]
  },
  {
   "cell_type": "markdown",
   "metadata": {},
   "source": [
    "#### Class\n",
    "+ a class is a blueprint or template that defines the structure and behavior of objects. \n",
    "+ Classes are used to model real-world entities or concepts in a program and enable code organization and reusability.\n",
    "#### Object\n",
    "+ an object is a specific instance created from a class. It represents a unique occurrence of that class, with its own set of attributes (data) and methods (functions) that can manipulate or interact with the data.\n",
    "+ Objects allow you to work with and manipulate data in a structured and organized manner, following the design and behavior defined by the class they belong to."
   ]
  },
  {
   "cell_type": "code",
   "execution_count": 24,
   "metadata": {},
   "outputs": [
    {
     "name": "stdout",
     "output_type": "stream",
     "text": [
      "Area is 314.0\n"
     ]
    }
   ],
   "source": [
    "class circle:\n",
    "    def print_ariya(self):\n",
    "        print(\"Area is\",3.14*self.r**2)\n",
    "    def set_radius(self):\n",
    "        self.r=int(input(\"Enter radius:\"))\n",
    "\n",
    "obj=circle()\n",
    "obj.set_radius()\n",
    "obj.print_ariya()\n"
   ]
  },
  {
   "cell_type": "markdown",
   "metadata": {},
   "source": [
    "<h4>Pillars of OOPS</h4>\n",
    "\n",
    "+ Encapsulation    \n",
    "    + Wrapping data and the actions that work on the data into a single unit   \n",
    "+ Abstraction    \n",
    "    + Simplifying complex things by ignoring the details that don't matter              \n",
    "+ Inheritance     \n",
    "    + Sharing characteristics and behaviors between objects                              \n",
    "+ Polymorphism    \n",
    "    + Allowing different objects to use the same command but respond in their unique way \n"
   ]
  },
  {
   "cell_type": "markdown",
   "metadata": {},
   "source": [
    "```py\n",
    "class<name>:\n",
    "    methods:\n",
    "    data:\n",
    "```\n",
    "##### in python method cases data means when a method is called, data will be created\n",
    "\n"
   ]
  },
  {
   "cell_type": "code",
   "execution_count": 1,
   "metadata": {},
   "outputs": [],
   "source": [
    "class Human:\n",
    "    def birth(self):\n",
    "        self.gender=input(\"Gender:\")\n",
    "        print(self.gender, \"took birth\")\n",
    "    def naming(self):\n",
    "        self.name=input(\"enter name:\")\n",
    "        print(\"now will be called:\", self.name)"
   ]
  },
  {
   "cell_type": "code",
   "execution_count": 2,
   "metadata": {},
   "outputs": [
    {
     "name": "stdout",
     "output_type": "stream",
     "text": [
      "male took birth\n",
      "now will be called: Om\n"
     ]
    }
   ],
   "source": [
    "h1=Human()\n",
    "h2= Human()\n",
    "\n",
    "h1.birth()\n",
    "h1.naming()\n"
   ]
  },
  {
   "cell_type": "markdown",
   "metadata": {},
   "source": [
    "> What is **self**?\n",
    "+ self is a conventionally used name for the first parameter of methods in a class. It refers to the instance of the class itself. When you define methods in a class, you typically use self as the first parameter to those methods\n",
    "\n",
    "```py\n",
    "class Dog:\n",
    "    def __init__(self, name, age):\n",
    "        self.name = name  # 'self.name' refers to the 'name' attribute of the instance\n",
    "        self.age = age    # 'self.age' refers to the 'age' attribute of the instance\n",
    "\n",
    "    def bark(self):\n",
    "        print(f\"{self.name} says Woof!\")  # 'self.name' is used to access the 'name' attribute\n",
    "\n",
    "# Creating instances of the Dog class\n",
    "dog1 = Dog(\"Buddy\", 3)\n",
    "dog2 = Dog(\"Molly\", 5)\n",
    "\n",
    "# Calling the 'bark' method on instances\n",
    "dog1.bark()  # Output: Buddy says Woof!\n",
    "dog2.bark()  # Output: Molly says Woof!\n",
    "\n",
    "```\n"
   ]
  },
  {
   "cell_type": "markdown",
   "metadata": {},
   "source": [
    "```\n",
    "create maths class with method to add subtract multiply divide 2 no.\n",
    "```"
   ]
  },
  {
   "cell_type": "code",
   "execution_count": 29,
   "metadata": {},
   "outputs": [
    {
     "name": "stdout",
     "output_type": "stream",
     "text": [
      "Addition is 50\n",
      "Subtraction is -30\n",
      "Multiplication is 400\n",
      "Division is 0.25\n"
     ]
    }
   ],
   "source": [
    "class maths:\n",
    "    def inpu(self):\n",
    "        self.a=int(input(\"Enter a:\"))\n",
    "        self.b=int(input(\"Enter b:\"))\n",
    "    def add(self):\n",
    "        return self.a+self.b\n",
    "    def sub(self):\n",
    "        return self.a-self.b\n",
    "    def mul(self):\n",
    "        return self.a*self.b\n",
    "    def div(self):\n",
    "        return self.a/self.b\n",
    "    \n",
    "obj=maths()\n",
    "obj.inpu()\n",
    "print(\"Addition is\",obj.add())\n",
    "print(\"Subtraction is\",obj.sub())\n",
    "print(\"Multiplication is\",obj.mul())\n",
    "print(\"Division is\",obj.div())"
   ]
  },
  {
   "cell_type": "markdown",
   "metadata": {},
   "source": [
    "```\n",
    "Desgin class car\n",
    "has method start setting speed to 10kmph\n",
    "accelerate() :inc speed+10\n",
    "break(): dec speed -10\n",
    "if speed over 120 print over speed\n",
    "if speed = 0 print car stalled\n",
    "```"
   ]
  },
  {
   "cell_type": "code",
   "execution_count": 35,
   "metadata": {},
   "outputs": [
    {
     "name": "stdout",
     "output_type": "stream",
     "text": [
      "Car started\n",
      "Speed is 10kmph\n",
      "1.Accelerate\n",
      "2.Decelerate\n",
      "3.Exit\n",
      "Car accelerated\n",
      "Speed is 20kmph\n",
      "1.Accelerate\n",
      "2.Decelerate\n",
      "3.Exit\n",
      "Car accelerated\n",
      "Speed is 30kmph\n",
      "1.Accelerate\n",
      "2.Decelerate\n",
      "3.Exit\n",
      "Car decelerated\n",
      "Speed is 20kmph\n",
      "1.Accelerate\n",
      "2.Decelerate\n",
      "3.Exit\n",
      "Car decelerated\n",
      "Speed is 10kmph\n",
      "1.Accelerate\n",
      "2.Decelerate\n",
      "3.Exit\n",
      "Car decelerated\n",
      "Speed is 0kmph\n",
      "Car stopped\n"
     ]
    }
   ],
   "source": [
    "class car:\n",
    "    def start(self):\n",
    "        print(\"Car started\")\n",
    "        self.speed=10\n",
    "        print(\"Speed is {}kmph\".format(self.speed))\n",
    "    def accelerate(self):\n",
    "        print(\"Car accelerated\")\n",
    "        self.speed+=10\n",
    "        print(\"Speed is {}kmph\".format(self.speed))\n",
    "    def deccelerate(self):\n",
    "        print(\"Car decelerated\")\n",
    "        self.speed-=10\n",
    "        print(\"Speed is {}kmph\".format(self.speed))\n",
    "    \n",
    "alto=car()\n",
    "alto.start()\n",
    "while True:\n",
    "    print(\"1.Accelerate\\n2.Decelerate\\n3.Exit\")\n",
    "    ch=int(input(\"Enter choice:\"))\n",
    "    if ch==1:\n",
    "        alto.accelerate()\n",
    "    elif ch==2:\n",
    "        alto.deccelerate()\n",
    "    elif ch==3:\n",
    "        break\n",
    "    else:\n",
    "        print(\"Invalid choice\")\n",
    "    if alto.speed==0:\n",
    "        print(\"Car stopped\")\n",
    "        break\n",
    "    elif alto.speed>=120:\n",
    "        print(\"lightning mcqueen\")\n",
    "        break"
   ]
  },
  {
   "cell_type": "markdown",
   "metadata": {},
   "source": [
    "# abstraction ----visibilities\n",
    "> public        : default,anyone can access from anywhere <_var>   \n",
    "> private       : hidden,not reflected but if known can access <_var>    \n",
    "> strong private: truly secure,cant access outside class <_var>    "
   ]
  },
  {
   "cell_type": "code",
   "execution_count": 4,
   "metadata": {},
   "outputs": [
    {
     "data": {
      "text/plain": [
       "'1234567890'"
      ]
     },
     "execution_count": 4,
     "metadata": {},
     "output_type": "execute_result"
    }
   ],
   "source": [
    "class person:\n",
    "    def createp(self,name,gender,contact):\n",
    "        self.gender=gender\n",
    "        self.name=name\n",
    "        self.contact=contact\n",
    "    def vibhishan(self):\n",
    "        return self.contact\n",
    "    \n",
    "p=person()\n",
    "p.createp(\"om\",\"male\",\"1234567890\")\n",
    "\n",
    "#p.contact\n",
    "\n",
    "p.vibhishan()"
   ]
  }
 ],
 "metadata": {
  "kernelspec": {
   "display_name": "Python 3",
   "language": "python",
   "name": "python3"
  },
  "language_info": {
   "codemirror_mode": {
    "name": "ipython",
    "version": 3
   },
   "file_extension": ".py",
   "mimetype": "text/x-python",
   "name": "python",
   "nbconvert_exporter": "python",
   "pygments_lexer": "ipython3",
   "version": "3.11.1"
  },
  "orig_nbformat": 4
 },
 "nbformat": 4,
 "nbformat_minor": 2
}
