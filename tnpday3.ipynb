{
 "cells": [
  {
   "cell_type": "markdown",
   "metadata": {},
   "source": [
    "# Day 3 <br> \n",
    "### OOPS & Functions"
   ]
  },
  {
   "cell_type": "markdown",
   "metadata": {},
   "source": [
    "# Functions\n",
    "> code written away from the script, when called control gets transfered.  \n",
    "> code gets executed & comes back to the script\n",
    "\n",
    "+ reuse\n",
    "+ Faster developing\n",
    "+ modular programming\n",
    "\n",
    "<h4>By Default the functions are overloaded by data type, Multiple Functions can be used for different data types</h4>"
   ]
  },
  {
   "cell_type": "markdown",
   "metadata": {},
   "source": [
    "> <h2>SYNTAX</h2>\n",
    "```py\n",
    "def name():\n",
    "    #code here\n",
    "    .\n",
    "    .\n",
    "    .\n",
    "    #code end\n",
    "```\n",
    "> You have to call the function to make it run\n",
    "+ python primitive are passed by value \n",
    "    - changes are only seen in function\n",
    "    - if we need to see RND\n",
    "+ python data structures are passed by ref\n",
    "    - Changes are seen Globally\n",
    "    - if changes are at several places\n"
   ]
  },
  {
   "cell_type": "code",
   "execution_count": 1,
   "metadata": {},
   "outputs": [
    {
     "name": "stdout",
     "output_type": "stream",
     "text": [
      "Hello World!\n"
     ]
    }
   ],
   "source": [
    "def hello():\n",
    "    print(\"Hello World!\")\n",
    "\n",
    "hello()"
   ]
  },
  {
   "cell_type": "code",
   "execution_count": 2,
   "metadata": {},
   "outputs": [],
   "source": [
    "def doubler(no):\n",
    "    print(no,\"before doubling\")\n",
    "    no = no * 2\n",
    "    print(no,\"after doubling\")"
   ]
  },
  {
   "cell_type": "code",
   "execution_count": 4,
   "metadata": {},
   "outputs": [
    {
     "name": "stdout",
     "output_type": "stream",
     "text": [
      "10 before calling doubler\n",
      "10 before doubling\n",
      "20 after doubling\n",
      "10 after calling doubler\n"
     ]
    }
   ],
   "source": [
    "a=10\n",
    "print(a,\"before calling doubler\")\n",
    "doubler(a)\n",
    "print(a,\"after calling doubler\")"
   ]
  },
  {
   "cell_type": "markdown",
   "metadata": {},
   "source": [
    ">Passing A Data Structure for Pass by Ref"
   ]
  },
  {
   "cell_type": "code",
   "execution_count": 5,
   "metadata": {},
   "outputs": [
    {
     "name": "stdout",
     "output_type": "stream",
     "text": [
      "10 before calling doubler\n",
      "10 before doubling\n",
      "20 after doubling\n",
      "20 after calling doubler\n"
     ]
    }
   ],
   "source": [
    "def doubler2(no):\n",
    "    print(no[0],\"before doubling\")\n",
    "    no[0] = no[0] * 2\n",
    "    print(no[0],\"after doubling\")\n",
    "\n",
    "a=[10]\n",
    "print(*a,\"before calling doubler\")\n",
    "doubler2(a)\n",
    "print(*a,\"after calling doubler\")"
   ]
  },
  {
   "cell_type": "markdown",
   "metadata": {},
   "source": [
    "> Functions are overloaded & hence Polymorphic in nature wrt data type"
   ]
  },
  {
   "cell_type": "code",
   "execution_count": 6,
   "metadata": {},
   "outputs": [
    {
     "name": "stdout",
     "output_type": "stream",
     "text": [
      "10 + 20 = 30\n",
      "hello + world = helloworld\n"
     ]
    }
   ],
   "source": [
    "def add(a,b):\n",
    "    print(a,\"+\",b,\"=\",a+b)\n",
    "\n",
    "add(10,20)\n",
    "add(\"hello\",\"world\")"
   ]
  },
  {
   "cell_type": "markdown",
   "metadata": {},
   "source": [
    "```py\n",
    "return:\n",
    "```\n",
    "+ return control back to script\n",
    "+ return in py can pass 1 as well as n data\n",
    "+ 1 data maintains primitive type\n",
    "+ n data uses tuple---security \n",
    "    + once created no one can modify"
   ]
  },
  {
   "cell_type": "markdown",
   "metadata": {},
   "source": [
    "```\n",
    "Write a Function to return minimum of 2 passed no.\n",
    "```"
   ]
  },
  {
   "cell_type": "code",
   "execution_count": 8,
   "metadata": {},
   "outputs": [
    {
     "name": "stdout",
     "output_type": "stream",
     "text": [
      "10 is minimum\n"
     ]
    }
   ],
   "source": [
    "def min(a,b):\n",
    "    if a<b:\n",
    "        return a\n",
    "    else:\n",
    "        return b\n",
    "    \n",
    "print(min(10,20),\"is minimum\")"
   ]
  },
  {
   "cell_type": "markdown",
   "metadata": {},
   "source": [
    "```\n",
    "Write a function that will append sum of list in the end of the list\n",
    "adder function\n",
    "```"
   ]
  },
  {
   "cell_type": "code",
   "execution_count": 13,
   "metadata": {},
   "outputs": [
    {
     "name": "stdout",
     "output_type": "stream",
     "text": [
      "[10, 20, 30, 60]\n"
     ]
    }
   ],
   "source": [
    "def adder(a):\n",
    "    summ=sum(a)\n",
    "    a.append(summ)\n",
    "\n",
    "a=[10,20,30]\n",
    "adder(a)\n",
    "print(a)"
   ]
  },
  {
   "cell_type": "markdown",
   "metadata": {},
   "source": [
    "```\n",
    "write function initial_creator that takes F_name,M_name,L_name\n",
    "return Initials\n",
    "inputs: OM Rajesh Hinge\n",
    "return: O R H\n",
    "```"
   ]
  },
  {
   "cell_type": "code",
   "execution_count": 14,
   "metadata": {},
   "outputs": [
    {
     "name": "stdout",
     "output_type": "stream",
     "text": [
      "('O', 'R', 'H')\n"
     ]
    }
   ],
   "source": [
    "def ic(F_n,M_n,L_n):\n",
    "    return(F_n[0],M_n[0],L_n[0])\n",
    "\n",
    "print(ic(\"Om\",\"Rajesh\",\"Hinge\"))"
   ]
  },
  {
   "cell_type": "markdown",
   "metadata": {},
   "source": [
    "```\n",
    "Find Missing element\n",
    "input list of number with one missing\n",
    "series 1,2,3,4,5,6,7,8-->2,3,1,5,6,7,8\n",
    "return missing no.\n",
    "```"
   ]
  },
  {
   "cell_type": "code",
   "execution_count": 25,
   "metadata": {},
   "outputs": [
    {
     "name": "stdout",
     "output_type": "stream",
     "text": [
      "[2, 3, 5, 7, 6, 8, 1]\n",
      "4\n"
     ]
    }
   ],
   "source": [
    "inpu=[2,3,5,7,6,8,1]\n",
    "print(inpu)\n",
    "\n",
    "def miss(inpu):\n",
    "    o_sum=sum(inpu)\n",
    "    n=len(inpu)+1\n",
    "    e_sum=(n*(n+1))//2\n",
    "    return e_sum-o_sum\n",
    "\n",
    "print(miss(inpu))"
   ]
  },
  {
   "cell_type": "markdown",
   "metadata": {},
   "source": [
    "# Recurrsion\n",
    "### Keep Recursion as the Last option\n",
    "\n",
    "<h6>Cons</h6>\n",
    "\n",
    "+ Code Runs Slower  \n",
    "+ Takes more memory  \n",
    "+ complex to understand\n",
    "<h6>Pros</h6>\n",
    "\n",
    "+ is Short & smaller to write"
   ]
  },
  {
   "cell_type": "code",
   "execution_count": 26,
   "metadata": {},
   "outputs": [
    {
     "name": "stdout",
     "output_type": "stream",
     "text": [
      "120\n"
     ]
    }
   ],
   "source": [
    "def fact(n):\n",
    "    if n==0:\n",
    "        return 1\n",
    "    else:\n",
    "        return n*fact(n-1)\n",
    "    \n",
    "print(fact(5))"
   ]
  },
  {
   "cell_type": "markdown",
   "metadata": {},
   "source": [
    "```\n",
    "GCD & LCM\n",
    "use recursion to find GCD & LCM of the no.\n",
    "```\n",
    "#### Hint:\n",
    "+ take no1%no2\n",
    "+ replace no1 with no2 & no2 with no1%no2\n",
    "+ if no2 perfectly divisibly by no1 then return no2"
   ]
  },
  {
   "cell_type": "code",
   "execution_count": 30,
   "metadata": {},
   "outputs": [
    {
     "name": "stdout",
     "output_type": "stream",
     "text": [
      "6\n",
      "20\n"
     ]
    }
   ],
   "source": [
    "def gcd(a,b):\n",
    "    if a%b==0:\n",
    "        return b\n",
    "    else:\n",
    "        return gcd(b,a%b)\n",
    "    \n",
    "def lcm(a,b):\n",
    "    return (a*b)//gcd(a,b)\n",
    "\n",
    "print(gcd(18,12))\n",
    "print(lcm(10,20))"
   ]
  },
  {
   "cell_type": "markdown",
   "metadata": {},
   "source": [
    "```\n",
    "code power function using recursion\n",
    "input: power(2,4)---->16\n",
    "```"
   ]
  },
  {
   "cell_type": "code",
   "execution_count": 36,
   "metadata": {},
   "outputs": [
    {
     "name": "stdout",
     "output_type": "stream",
     "text": [
      "16\n"
     ]
    }
   ],
   "source": [
    "def power(a,b):\n",
    "    if b==0:\n",
    "        return 1\n",
    "    else:\n",
    "        return a*power(a,b-1)\n",
    "a=2\n",
    "b=4\n",
    "print(power(a,b))"
   ]
  },
  {
   "cell_type": "markdown",
   "metadata": {},
   "source": [
    "#### Key Value Pair\n",
    "\n"
   ]
  }
 ],
 "metadata": {
  "kernelspec": {
   "display_name": "Python 3",
   "language": "python",
   "name": "python3"
  },
  "language_info": {
   "codemirror_mode": {
    "name": "ipython",
    "version": 3
   },
   "file_extension": ".py",
   "mimetype": "text/x-python",
   "name": "python",
   "nbconvert_exporter": "python",
   "pygments_lexer": "ipython3",
   "version": "3.11.1"
  },
  "orig_nbformat": 4
 },
 "nbformat": 4,
 "nbformat_minor": 2
}
