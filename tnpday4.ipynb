{
 "cells": [
  {
   "cell_type": "markdown",
   "metadata": {},
   "source": [
    "# OOPS Continue..."
   ]
  },
  {
   "cell_type": "markdown",
   "metadata": {},
   "source": [
    "## Inheritance:\n",
    "> Inheritance allows you to create a new class that is a modified version of an existing class. The new class inherits the attributes and methods of the base class and can also have its own unique attributes and methods.\n",
    "> Inheritance is a fundamental concept in object-oriented programming (OOP) that allows you to create new classes (subclasses or derived classes) based on existing classes (base classes or parent classes). Here are some key points about inheritance:\n",
    "+ Code Reusability: Inheritance promotes code reuse by allowing you to define a new class that inherits attributes and methods from an existing class. This reduces duplication of code and promotes a more organized codebase.\n",
    "\n",
    "+ Base Class and Subclass: Inheritance involves two main classes: the base class (also called the parent class) and the subclass (also called the derived class). The subclass inherits properties and behaviors from the base class.\n",
    "\n",
    "\n",
    "+ Abstract Classes and Interfaces: In some cases, base classes are designed to be abstract, meaning they are not meant to be instantiated directly. Instead, they provide a blueprint for subclasses. In Python, you can create abstract classes using the abc module.\n",
    "\n",
    "+ Encapsulation and Information Hiding: Inheritance allows you to encapsulate data and methods in base classes, hiding implementation details from subclasses. Subclasses can access and extend the interface without needing to know the internal workings of the base class.\n",
    "\n",
    "+ Inheritance Hierarchies: In complex applications, you can have multiple levels of inheritance, creating a hierarchy of classes. Subclasses can further subclass other subclasses, forming a tree-like structure.\n"
   ]
  },
  {
   "cell_type": "markdown",
   "metadata": {},
   "source": [
    "### basic syntax of inheritance\n",
    "```py\n",
    "class BaseClass:\n",
    "    # Base class attributes and methods\n",
    "\n",
    "class Subclass(BaseClass):\n",
    "    # Subclass attributes and methods\n",
    "\n",
    "```"
   ]
  },
  {
   "cell_type": "code",
   "execution_count": 1,
   "metadata": {},
   "outputs": [
    {
     "name": "stdout",
     "output_type": "stream",
     "text": [
      "Buddy says Woof!\n",
      "Molly says Meow!\n"
     ]
    }
   ],
   "source": [
    "class Animal:\n",
    "    def __init__(self, name):\n",
    "        self.name = name\n",
    "\n",
    "    def speak(self):\n",
    "        pass\n",
    "\n",
    "class Dog(Animal):\n",
    "    def speak(self):\n",
    "        return f\"{self.name} says Woof!\"\n",
    "\n",
    "class Cat(Animal):\n",
    "    def speak(self):\n",
    "        return f\"{self.name} says Meow!\"\n",
    "\n",
    "dog = Dog(\"Buddy\")\n",
    "cat = Cat(\"Molly\")\n",
    "\n",
    "print(dog.speak())  \n",
    "print(cat.speak())  "
   ]
  },
  {
   "cell_type": "markdown",
   "metadata": {},
   "source": [
    "## Encapsulation:\n",
    "> Encapsulation is a way to restrict access to certain parts of an object and only expose the necessary parts to the outside. In Python, you can achieve encapsulation using private and protected attributes and methods.\n",
    "\n",
    "> Here are some key points about encapsulation:\n",
    "\n",
    "+ Data Hiding: Encapsulation involves hiding the internal details of an object and providing access to the object's attributes and behaviors through well-defined interfaces. This hides the complexity of the object's implementation and prevents direct access to its internal state.\n",
    "\n",
    "+ Access Control: Encapsulation allows you to control the level of access to an object's attributes and methods. In many object-oriented languages, such as Python, you can use access modifiers like public, protected, and private to specify the level of visibility and access.\n",
    "\n",
    "+ Public Attributes and Methods: Public attributes and methods are accessible from outside the class. They are part of the class's interface and can be used by other objects.\n",
    "\n",
    "+ Protected Attributes and Methods (By Convention): In some programming languages, like Python, attributes and methods starting with a single underscore _ are considered protected. They are intended to be used within the class or by subclasses but can still be accessed from outside.\n",
    "\n",
    "+ Private Attributes and Methods (Name Mangling): In Python, attributes and methods starting with double underscores __ are considered private. They are name-mangled to make them less accessible from outside the class. However, they can still be accessed if needed using name mangling (e.g., _ClassName__private_attribute).\n",
    "\n",
    "\n",
    "+ Modularity and Code Organization: Encapsulation promotes modularity in code by encapsulating related data and behavior in a single unit (class). This makes code more organized and easier to maintain.\n",
    "\n",
    "+ Enhanced Security: Encapsulation can enhance security by limiting access to sensitive data and providing controlled methods for interacting with that data. Unauthorized access to private data is restricted.\n"
   ]
  },
  {
   "cell_type": "markdown",
   "metadata": {},
   "source": [
    "### Encapsulation syntax:\n",
    "```py\n",
    "class MyClass:\n",
    "    def __init__(self):\n",
    "        # Public attribute (accessible from outside the class)\n",
    "        self.public_var = 42\n",
    "\n",
    "        # Protected attribute (by convention, should not be accessed directly)\n",
    "        self._protected_var = \"I'm protected (convention)\"\n",
    "\n",
    "        # Private attribute (name-mangled, should not be accessed directly)\n",
    "        self.__private_var = \"I'm private (name-mangled)\"\n",
    "\n",
    "    # Public method (accessible from outside the class)\n",
    "    def public_method(self):\n",
    "        print(\"This is a public method\")\n",
    "\n",
    "    # Protected method (by convention, should not be accessed directly)\n",
    "    def _protected_method(self):\n",
    "        print(\"This is a protected method (convention)\")\n",
    "\n",
    "    # Private method (name-mangled, should not be accessed directly)\n",
    "    def __private_method(self):\n",
    "        print(\"This is a private method (name-mangled)\")\n",
    "\n",
    "# Create an instance of MyClass\n",
    "obj = MyClass()\n",
    "\n",
    "# Access public attribute and call public method\n",
    "print(obj.public_var)     # Output: 42\n",
    "obj.public_method()       # Output: This is a public method\n",
    "\n",
    "# Access protected attribute and call protected method (by convention)\n",
    "print(obj._protected_var)  # Output: I'm protected (convention)\n",
    "obj._protected_method()    # Output: This is a protected method (convention)\n",
    "\n",
    "# Attempting to access a private attribute or call a private method directly\n",
    "# will result in an error, but you can access them using name mangling.\n",
    "# Note: Accessing private members like this is not recommended.\n",
    "# print(obj.__private_var)      # Error: AttributeError\n",
    "# obj.__private_method()        # Error: AttributeError\n",
    "print(obj._MyClass__private_var)  # Output: I'm private (name-mangled)\n",
    "obj._MyClass__private_method()    # Output: This is a private method (name-mangled)\n",
    "\n",
    "```"
   ]
  },
  {
   "cell_type": "code",
   "execution_count": 2,
   "metadata": {},
   "outputs": [
    {
     "name": "stdout",
     "output_type": "stream",
     "text": [
      "Alice\n",
      "12345\n",
      "Bob\n"
     ]
    }
   ],
   "source": [
    "#example\n",
    "class Student:\n",
    "    def __init__(self, name, roll_number):\n",
    "        self.__name = name  # Private attribute\n",
    "        self._roll_number = roll_number  # Protected attribute\n",
    "\n",
    "    def get_name(self):\n",
    "        return self.__name\n",
    "\n",
    "    def set_name(self, name):\n",
    "        if len(name) > 0:\n",
    "            self.__name = name\n",
    "\n",
    "student = Student(\"Alice\", \"12345\")\n",
    "\n",
    "# Accessing private and protected attributes\n",
    "print(student.get_name())  # Output: Alice\n",
    "print(student._roll_number)  # Output: 12345\n",
    "\n",
    "# Modifying private attribute (through a method)\n",
    "student.set_name(\"Bob\")\n",
    "print(student.get_name())  # Output: Bob\n"
   ]
  },
  {
   "cell_type": "markdown",
   "metadata": {},
   "source": [
    "## Polymorphism \n",
    "> Polymorphism allows objects of different classes to be treated as objects of a common base class. It enables you to write code that can work with objects of different classes in a uniform way.\n",
    "\n",
    "+ \"Poly\" and \"Morphism\": The term \"polymorphism\" is derived from two Greek words: \"poly\" (meaning many) and \"morph\" (meaning form). In programming, it refers to the ability of objects to take on multiple forms.\n",
    "\n",
    "+ Method Overriding: Polymorphism is often achieved through method overriding, where a subclass provides a specific implementation of a method that is already defined in the base class. This allows objects of different classes to respond to the same method call differently.\n",
    "\n",
    "+ Same Interface, Different Behavior: Polymorphism allows you to define a common interface (method signatures) for a group of related classes. Even though these classes may have different implementations, they share the same method names and parameters, making it easy to work with them interchangeably.\n",
    "\n",
    "+ Dynamic Binding: In many OOP languages, such as Python and Java, polymorphism is achieved through dynamic binding (also known as late binding or runtime polymorphism). This means that the specific method to be executed is determined at runtime based on the actual type of the object, not at compile time.\n",
    "\n",
    "+ Base Class and Subclasses: Polymorphism is often used in the context of a base class and its subclasses. The base class defines a common interface, while each subclass provides its own implementation of the interface.\n",
    "\n",
    "+ Code Reusability: Polymorphism promotes code reuse because you can write generic code that operates on objects of a base class, and it will work with objects of any subclass that inherits from that base class.\n",
    "\n",
    "+ Real-World Analogy: A real-world analogy of polymorphism is a remote control. Regardless of the brand or model of the TV, the same remote control interface (buttons) can be used to control different TVs."
   ]
  },
  {
   "cell_type": "markdown",
   "metadata": {},
   "source": [
    "### Polymorphism Syntax:\n",
    "\n",
    "+ Method Overriding:\n",
    "\n",
    "    + In Python, polymorphism is often achieved through method overriding. Subclasses provide their own implementations of methods that are already defined in the base class. This allows objects of different classes to respond differently to the same method call.\n",
    "\n",
    "```py\n",
    "class BaseClass:\n",
    "    def some_method(self):\n",
    "        # Base class method implementation\n",
    "\n",
    "class SubClass(BaseClass):\n",
    "    def some_method(self):\n",
    "        # Subclass-specific method implementation\n",
    "```\n",
    "+ Interfaces and Abstract Classes:\n",
    "\n",
    "    + You can use interfaces or abstract classes to define a common interface (method signatures) that multiple classes should implement. This enforces polymorphism by requiring subclasses to provide specific methods.\n",
    "\n",
    "    + In Python, there's no explicit syntax for interfaces, but you can use abstract base classes from the abc module.\n",
    "```py\n",
    "from abc import ABC, abstractmethod\n",
    "\n",
    "class Shape(ABC):\n",
    "    @abstractmethod\n",
    "    def area(self):\n",
    "        pass\n",
    "\n",
    "class Circle(Shape):\n",
    "    def __init__(self, radius):\n",
    "        self.radius = radius\n",
    "\n",
    "    def area(self):\n",
    "        return 3.14 * self.radius ** 2\n",
    "```\n",
    "\n",
    "+ Dynamic Binding:\n",
    "\n",
    "    + Polymorphism in Python is achieved through dynamic binding (late binding). This means that the specific method to be executed is determined at runtime based on the actual type of the object, not at compile time.\n",
    "```py\n",
    "def calculate_area(shape):\n",
    "    return shape.area()  # The appropriate area() method is called based on the object's type\n",
    "\n",
    "circle = Circle(5)\n",
    "print(calculate_area(circle))  # Calls the area() method of the Circle class\n",
    "```\n",
    "\n",
    "+ Collections and Polymorphism:\n",
    "    + Polymorphism is often leveraged when working with collections (e.g., lists or arrays) of objects. You can store objects of different subclasses in the same collection and operate on them using the common interface.\n",
    "```py\n",
    "shapes = [Circle(5), Rectangle(4, 6), Triangle(3, 4, 5)]\n",
    "\n",
    "for shape in shapes:\n",
    "    print(f\"Area: {shape.area()}\")  # Calls the area() method of the specific shape type\n",
    "```"
   ]
  },
  {
   "cell_type": "code",
   "execution_count": 3,
   "metadata": {},
   "outputs": [
    {
     "name": "stdout",
     "output_type": "stream",
     "text": [
      "Area: 78.5\n",
      "Area: 24\n"
     ]
    }
   ],
   "source": [
    "class Shape:\n",
    "    def area(self):\n",
    "        pass\n",
    "\n",
    "class Circle(Shape):\n",
    "    def __init__(self, radius):\n",
    "        self.radius = radius\n",
    "\n",
    "    def area(self):\n",
    "        return 3.14 * self.radius * self.radius\n",
    "\n",
    "class Rectangle(Shape):\n",
    "    def __init__(self, length, width):\n",
    "        self.length = length\n",
    "        self.width = width\n",
    "\n",
    "    def area(self):\n",
    "        return self.length * self.width\n",
    "\n",
    "shapes = [Circle(5), Rectangle(4, 6)]\n",
    "\n",
    "for shape in shapes:\n",
    "    print(f\"Area: {shape.area()}\")\n"
   ]
  }
 ],
 "metadata": {
  "kernelspec": {
   "display_name": "Python 3",
   "language": "python",
   "name": "python3"
  },
  "language_info": {
   "codemirror_mode": {
    "name": "ipython",
    "version": 3
   },
   "file_extension": ".py",
   "mimetype": "text/x-python",
   "name": "python",
   "nbconvert_exporter": "python",
   "pygments_lexer": "ipython3",
   "version": "3.11.1"
  }
 },
 "nbformat": 4,
 "nbformat_minor": 2
}
